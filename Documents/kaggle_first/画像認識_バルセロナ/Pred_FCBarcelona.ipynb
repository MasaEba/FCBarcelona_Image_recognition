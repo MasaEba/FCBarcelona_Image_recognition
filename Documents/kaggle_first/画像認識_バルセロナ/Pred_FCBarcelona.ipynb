{
 "cells": [
  {
   "cell_type": "code",
   "execution_count": 26,
   "metadata": {},
   "outputs": [],
   "source": [
    "import os,glob\n",
    "from PIL import Image\n",
    "import numpy as np\n",
    "from keras.utils import to_categorical\n",
    "from keras.models import load_model\n",
    "\n",
    "import tensorflow as tf\n",
    "tf.compat.v1.logging.set_verbosity(tf.compat.v1.logging.ERROR)"
   ]
  },
  {
   "cell_type": "code",
   "execution_count": 27,
   "metadata": {},
   "outputs": [],
   "source": [
    "w = 56\n",
    "work_dir = \"data/FCBarcelona\"\n",
    "image_dir = work_dir + \"/original/unknown\"\n",
    "pred_dir = work_dir + \"/predicted\"\n",
    "results_base = 'FCBarcelona-results'\n",
    "model_file = \"FCBarcelona-model-w{0}.json\".format(w)\n",
    "classes = [\"messi\",\"griezman\"]\n",
    "num_classes = len(classes)"
   ]
  },
  {
   "cell_type": "code",
   "execution_count": null,
   "metadata": {},
   "outputs": [],
   "source": []
  },
  {
   "cell_type": "code",
   "execution_count": 29,
   "metadata": {},
   "outputs": [],
   "source": [
    "model=load_model(model_file)"
   ]
  },
  {
   "cell_type": "code",
   "execution_count": 30,
   "metadata": {},
   "outputs": [
    {
     "name": "stdout",
     "output_type": "stream",
     "text": [
      "data/FCBarcelona/predicted/mini_2019-10-29_FCBvsVALLADOLID_06.pred_as_griezman-w56.jpg [[0.29790393 0.70209605]]\n",
      "data/FCBarcelona/predicted/mini_2019-10-29_FCBvsVALLADOLID_07.pred_as_messi-w56.jpg [[0.54711145 0.4528886 ]]\n",
      "data/FCBarcelona/predicted/mini_2019-10-29_FCBvsVALLADOLID_09.pred_as_messi-w56.jpg [[0.58379316 0.41620687]]\n",
      "data/FCBarcelona/predicted/mini_2019-10-29_FCBvsVALLADOLID_12.pred_as_griezman-w56.jpg [[0.4479501 0.5520499]]\n",
      "data/FCBarcelona/predicted/mini_2019-10-29_FCBvsVALLADOLID_36.pred_as_griezman-w56.jpg [[0.297206   0.70279396]]\n",
      "data/FCBarcelona/predicted/mini_2019-10-29_FCBvsVALLADOLID_39.pred_as_griezman-w56.jpg [[0.21029831 0.7897017 ]]\n",
      "data/FCBarcelona/predicted/mini_2019-10-29_FCBvsVALLADOLID_42.pred_as_messi-w56.jpg [[0.56371766 0.43628237]]\n",
      "data/FCBarcelona/predicted/mini_2019-10-29_FCBvsVALLADOLID_44.pred_as_griezman-w56.jpg [[0.41893527 0.5810647 ]]\n",
      "data/FCBarcelona/predicted/mini__W9A6061.pred_as_griezman-w56.jpg [[0.1965313  0.80346864]]\n",
      "data/FCBarcelona/predicted/mini__W9A6099.pred_as_griezman-w56.jpg [[0.23123121 0.7687688 ]]\n",
      "data/FCBarcelona/predicted/mini__W9A6127.pred_as_griezman-w56.jpg [[0.25914973 0.7408503 ]]\n",
      "data/FCBarcelona/predicted/mini__W9A6226.pred_as_griezman-w56.jpg [[0.3745976  0.62540245]]\n",
      "OK\n"
     ]
    }
   ],
   "source": [
    "results_file='{0}-w{1}.csv'.format(results_base,w)\n",
    "res=open(results_file,'w')\n",
    "res.write(\"file,{0},{1}\\n\".format(classes[0],classes[1]))\n",
    "\n",
    "\n",
    "files=glob.glob(pred_dir+\"/*.*\")\n",
    "for f in files:\n",
    "    os.remove(f)\n",
    "\n",
    "\n",
    "files=glob.glob(image_dir+\"/*.*\")\n",
    "for f in files:\n",
    "    \n",
    "    img=Image.open(f)\n",
    "    img=img.convert(\"RGB\")\n",
    "    img=img.resize((w,w))\n",
    "    \n",
    "    X=np.array(img).reshape(1,w,w,3).astype(\"float16\")\n",
    "    X_pred=X/255\n",
    "    \n",
    "    pred=model.predict(X_pred)\n",
    "    pred_ans=pred.argmax()\n",
    "    pred_cls=classes[pred_ans]\n",
    "    tag=\"pred_as_{0}-w{1}\".format(pred_cls,w)\n",
    "    base=os.path.basename(f)\n",
    "    img_file=\"{0}/{1}.{2}.jpg\".format(pred_dir,os.path.splitext(base)[0],tag)\n",
    "    img.save(img_file)\n",
    "    print(img_file,pred)\n",
    "    res.write(\"{0},{1},{2}\\n\".format(f,pred[0][0],pred[0][1]))\n",
    "\n",
    "\n",
    "res.close()\n",
    "\n",
    "print(\"OK\")"
   ]
  },
  {
   "cell_type": "code",
   "execution_count": null,
   "metadata": {},
   "outputs": [],
   "source": []
  }
 ],
 "metadata": {
  "kernelspec": {
   "display_name": "Python 3",
   "language": "python",
   "name": "python3"
  },
  "language_info": {
   "codemirror_mode": {
    "name": "ipython",
    "version": 3
   },
   "file_extension": ".py",
   "mimetype": "text/x-python",
   "name": "python",
   "nbconvert_exporter": "python",
   "pygments_lexer": "ipython3",
   "version": "3.6.7"
  }
 },
 "nbformat": 4,
 "nbformat_minor": 4
}
